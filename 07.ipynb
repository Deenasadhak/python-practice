{
 "cells": [
  {
   "cell_type": "code",
   "execution_count": 22,
   "metadata": {},
   "outputs": [
    {
     "name": "stdout",
     "output_type": "stream",
     "text": [
      "3\n",
      "2997990685120\n",
      "<class 'list'>\n",
      "0\n",
      "1\n",
      "2\n",
      "3\n",
      "4\n"
     ]
    }
   ],
   "source": [
    "# Special Functions\n",
    "fruits = [\"apple\", \"banana\", \"cherry\"]\n",
    "\n",
    "# len()\n",
    "print(len(fruits))  # Output: 3\n",
    "\n",
    "# id()\n",
    "print(id(fruits))  # Output: Unique ID of the list object\n",
    "\n",
    "# type()\n",
    "print(type(fruits))  # Output: <class 'list'>\n",
    "\n",
    "# range()\n",
    "for i in range(5):\n",
    "    print(i)  # Output: 0 1 2 3 4"
   ]
  },
  {
   "cell_type": "code",
   "execution_count": 23,
   "metadata": {},
   "outputs": [
    {
     "name": "stdout",
     "output_type": "stream",
     "text": [
      "Buddy says Woof!\n",
      "Whiskers says Meow!\n"
     ]
    }
   ],
   "source": [
    "# Inheritence\n",
    "\n",
    "# Parent class\n",
    "class Animal:\n",
    "    def __init__(self, name):\n",
    "        self.name = name\n",
    "\n",
    "# Child class\n",
    "class Dog(Animal):\n",
    "    def speak(self):\n",
    "        return f\"{self.name} says Woof!\"\n",
    "\n",
    "class Cat(Animal):\n",
    "    def speak(self):\n",
    "        return f\"{self.name} says Meow!\"\n",
    "\n",
    "dog = Dog(\"Buddy\")\n",
    "cat = Cat(\"Whiskers\")\n",
    "\n",
    "print(dog.speak())\n",
    "print(cat.speak())\n"
   ]
  },
  {
   "cell_type": "code",
   "execution_count": 24,
   "metadata": {},
   "outputs": [
    {
     "name": "stdout",
     "output_type": "stream",
     "text": [
      "The area is: 20\n",
      "The area is: 28.259999999999998\n"
     ]
    }
   ],
   "source": [
    "# Polymorphism\n",
    "\n",
    "class Shape:\n",
    "    def area(self):\n",
    "        raise NotImplementedError(\"Subclass must implement abstract method\")\n",
    "\n",
    "class Rectangle(Shape):\n",
    "    def __init__(self, width, height):\n",
    "        self.width = width\n",
    "        self.height = height\n",
    "    \n",
    "    def area(self):\n",
    "        return self.width * self.height\n",
    "\n",
    "class Circle(Shape):\n",
    "    def __init__(self, radius):\n",
    "        self.radius = radius\n",
    "    \n",
    "    def area(self):\n",
    "        return 3.14 * self.radius * self.radius\n",
    "\n",
    "def print_area(shape):\n",
    "    print(f\"The area is: {shape.area()}\")\n",
    "\n",
    "rectangle = Rectangle(4, 5)\n",
    "circle = Circle(3)\n",
    "\n",
    "print_area(rectangle)\n",
    "print_area(circle)\n"
   ]
  },
  {
   "cell_type": "code",
   "execution_count": 25,
   "metadata": {},
   "outputs": [
    {
     "name": "stdout",
     "output_type": "stream",
     "text": [
      "Name: Alice\n",
      "Age: 20\n",
      "Updated age: 21\n",
      "Age must be a positive number.\n"
     ]
    }
   ],
   "source": [
    "# Encapsulation\n",
    "\n",
    "class Student:\n",
    "    def __init__(self, name, age):\n",
    "        self.name = name\n",
    "        self.__age = age\n",
    "\n",
    "    def get_age(self):\n",
    "        return self.__age\n",
    "\n",
    "    def set_age(self, age):\n",
    "        if age > 0:\n",
    "            self.__age = age\n",
    "        else:\n",
    "            print(\"Age must be a positive number.\")\n",
    "\n",
    "student1 = Student(\"Alice\", 20)\n",
    "\n",
    "# Accessing public attribute directly\n",
    "print(f\"Name: {student1.name}\")\n",
    "\n",
    "# Accessing private attribute indirectly\n",
    "# This would raise an AttributeError: 'Student' object has no attribute '__age'\n",
    "# print(f\"Age: {student1.__age}\")\n",
    "\n",
    "# Accessing private attribute using a public method\n",
    "print(f\"Age: {student1.get_age()}\")\n",
    "\n",
    "# Updating age using a public method\n",
    "student1.set_age(21)\n",
    "print(f\"Updated age: {student1.get_age()}\")\n",
    "\n",
    "# Trying to set an invalid age\n",
    "student1.set_age(-5)\n"
   ]
  },
  {
   "cell_type": "code",
   "execution_count": 26,
   "metadata": {},
   "outputs": [
    {
     "name": "stdout",
     "output_type": "stream",
     "text": [
      "Area: 15\n",
      "Perimeter: 16\n"
     ]
    }
   ],
   "source": [
    "# Data Abstraction\n",
    "\n",
    "class Rectangle:\n",
    "    def __init__(self, length, width):\n",
    "        self._length = length\n",
    "        self._width = width\n",
    "\n",
    "    def area(self):\n",
    "        return self._length * self._width\n",
    "\n",
    "    def perimeter(self):\n",
    "        return 2 * (self._length + self._width)\n",
    "\n",
    "\n",
    "rectangle = Rectangle(5, 3)\n",
    "print(\"Area:\", rectangle.area())\n",
    "print(\"Perimeter:\", rectangle.perimeter())\n"
   ]
  },
  {
   "cell_type": "code",
   "execution_count": 27,
   "metadata": {},
   "outputs": [
    {
     "name": "stdout",
     "output_type": "stream",
     "text": [
      "10\n"
     ]
    }
   ],
   "source": [
    "# Data hiding\n",
    "\n",
    "class MyClass:\n",
    "    def __init__(self):\n",
    "        # The __hidden_var is a private instance variable\n",
    "        self.__hidden_var = 0  # Hidden variable, initialized with 0\n",
    "\n",
    "    def get_hidden_var(self):\n",
    "        return self.__hidden_var\n",
    "\n",
    "    def set_hidden_var(self, value):\n",
    "        self.__hidden_var = value  # Updates the hidden variable with the provided value\n",
    "\n",
    "obj = MyClass()\n",
    "\n",
    "# Calling the set_hidden_var method to update the hidden variable\n",
    "obj.set_hidden_var(10)\n",
    "\n",
    "# Calling the get_hidden_var method to retrieve the value of the hidden variable\n",
    "print(obj.get_hidden_var())"
   ]
  }
 ],
 "metadata": {
  "kernelspec": {
   "display_name": "Python 3",
   "language": "python",
   "name": "python3"
  },
  "language_info": {
   "codemirror_mode": {
    "name": "ipython",
    "version": 3
   },
   "file_extension": ".py",
   "mimetype": "text/x-python",
   "name": "python",
   "nbconvert_exporter": "python",
   "pygments_lexer": "ipython3",
   "version": "3.11.9"
  },
  "orig_nbformat": 4
 },
 "nbformat": 4,
 "nbformat_minor": 2
}
