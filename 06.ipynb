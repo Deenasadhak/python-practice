{
 "cells": [
  {
   "cell_type": "code",
   "execution_count": 214,
   "metadata": {},
   "outputs": [
    {
     "name": "stdout",
     "output_type": "stream",
     "text": [
      "hello world\n"
     ]
    }
   ],
   "source": [
    "#input and output\n",
    "\n",
    "print(\"hello world\")"
   ]
  },
  {
   "cell_type": "code",
   "execution_count": 215,
   "metadata": {},
   "outputs": [],
   "source": [
    "#Data types\n",
    "\n",
    "int_num = 10\n",
    "float_num =5.23\n",
    "complex_num =2+ 4j\n",
    "string =\"ramu\"\n",
    "boolean = False\n",
    "list_example = [12, 34, 43, 45]\n",
    "tuple_example = (12, 34, 43, 45)\n",
    "dict_exaple = {\"s\":23, \"y\":54, \"c\":45}\n",
    "set_example ={12, 34, 43, 45}"
   ]
  },
  {
   "cell_type": "code",
   "execution_count": 216,
   "metadata": {},
   "outputs": [],
   "source": [
    "#expressions and Operators\n",
    "a = 10\n",
    "b = 5"
   ]
  },
  {
   "cell_type": "code",
   "execution_count": 217,
   "metadata": {},
   "outputs": [
    {
     "name": "stdout",
     "output_type": "stream",
     "text": [
      "15\n",
      "5\n",
      "50\n",
      "2.0\n",
      "2\n",
      "0\n",
      "100000\n"
     ]
    }
   ],
   "source": [
    "# arithmetic operators\n",
    "print(a+b) \n",
    "print(a-b)\n",
    "print(a*b)\n",
    "print(a/b)\n",
    "print(a//b)\n",
    "print(a%b)\n",
    "print(a**b)\n"
   ]
  },
  {
   "cell_type": "code",
   "execution_count": 218,
   "metadata": {},
   "outputs": [
    {
     "name": "stdout",
     "output_type": "stream",
     "text": [
      "False\n",
      "True\n",
      "True\n",
      "False\n",
      "True\n",
      "False\n"
     ]
    }
   ],
   "source": [
    "# comparison operators\n",
    "print(a==b)\n",
    "print(a!=b)\n",
    "print(a>b)\n",
    "print(a<b)\n",
    "print(a>=b)\n",
    "print(a<=b)\n"
   ]
  },
  {
   "cell_type": "code",
   "execution_count": 219,
   "metadata": {},
   "outputs": [
    {
     "name": "stdout",
     "output_type": "stream",
     "text": [
      "True\n",
      "True\n",
      "False\n"
     ]
    }
   ],
   "source": [
    "# logical operators\n",
    "print(a>6 and b<6)\n",
    "print(a>6 or b<3)\n",
    "print(not(a>6 and b<6))\n"
   ]
  },
  {
   "cell_type": "code",
   "execution_count": 220,
   "metadata": {},
   "outputs": [
    {
     "name": "stdout",
     "output_type": "stream",
     "text": [
      "5\n",
      "52.0\n",
      "34\n",
      "['A', 'p', 'p', 'l', 'e']\n",
      "(1, 2, 3, 4, 5)\n",
      "{1, 2, 3, 4, 5}\n"
     ]
    }
   ],
   "source": [
    "\n",
    "# Type Casting\n",
    "int_from_float = int(5.32)\n",
    "float_from_int = float(52)\n",
    "string_from_int = str(34)\n",
    "list_from_string = list(\"Apple\")\n",
    "tuple_from_list = tuple([1,2,3,4,5])\n",
    "set_from_list = set([1,2,3,4,5])\n",
    "\n",
    "\n",
    "print(int_from_float)\n",
    "print(float_from_int)\n",
    "print(string_from_int)\n",
    "print(list_from_string)\n",
    "print(tuple_from_list)\n",
    "print(set_from_list)\n",
    "\n"
   ]
  },
  {
   "cell_type": "code",
   "execution_count": 221,
   "metadata": {},
   "outputs": [
    {
     "name": "stdout",
     "output_type": "stream",
     "text": [
      "5 is lesser than 10\n"
     ]
    }
   ],
   "source": [
    "# Conditional statements\n",
    "a = 5\n",
    "b = 10\n",
    "\n",
    "if a == b:\n",
    "    print(\"The numbers are equal.\")\n",
    "elif a > b:\n",
    "    print(f\"{a} is greater than {b}.\")\n",
    "else:\n",
    "    print(f\"{a} is lesser than {b}\")\n"
   ]
  },
  {
   "cell_type": "code",
   "execution_count": 222,
   "metadata": {},
   "outputs": [
    {
     "name": "stdout",
     "output_type": "stream",
     "text": [
      "Violet\n",
      "Indigo\n",
      "Blue\n",
      "Green\n",
      "Yellow\n",
      "Orange\n",
      "Red\n",
      "Violet\n",
      "Indigo\n",
      "Blue\n",
      "Green\n",
      "Yellow\n",
      "Orange\n",
      "Red\n",
      "0\n",
      "1\n",
      "2\n",
      "3\n",
      "4\n",
      "0\n",
      "1\n",
      "2\n",
      "3\n",
      "4\n",
      "6\n",
      "7\n",
      "8\n",
      "9\n",
      "7\n",
      "2323005372992\n",
      "<class 'list'>\n",
      "0\n",
      "1\n",
      "2\n",
      "3\n",
      "4\n"
     ]
    }
   ],
   "source": [
    "\n",
    "# Looping Statements\n",
    "colour = [\"Violet\",\"Indigo\",\"Blue\",\"Green\",\"Yellow\",\"Orange\",\"Red\"]\n",
    "   \n",
    "    # For loop\n",
    "for i in colour:\n",
    "    print(i)\n",
    "\n",
    "        # While loop\n",
    "n = 0\n",
    "while n < len(colour):\n",
    "    print(colour[n])\n",
    "    n = n+1\n",
    "\n",
    "  \n",
    "# Jumping Statements\n",
    "    # Break statement\n",
    "for i in range(10):\n",
    "    if i==5:\n",
    "        break\n",
    "    print(i)\n",
    "  \n",
    "    # continue statement\n",
    "for i in range(10):\n",
    "    if i==5:\n",
    "        continue\n",
    "    print(i)\n",
    "\n",
    "# Special Functions\n",
    "colour = [\"Violet\",\"Indigo\",\"Blue\",\"Green\",\"Yellow\",\"Orange\",\"Red\"]\n",
    " \n",
    "    # len()\n",
    "print(len(colour))\n",
    "\n",
    "    # id()\n",
    "print(id(colour))\n",
    "\n",
    "    # type()\n",
    "print(type(colour))\n",
    "\n",
    "    # range()\n",
    "for i in range(5):\n",
    "    print(i)\n",
    "\n",
    "# Functions in python\n",
    "\n",
    "def calculate_area(length,breadth=5):\n",
    "    return length * breadth\n",
    "\n"
   ]
  },
  {
   "cell_type": "code",
   "execution_count": 223,
   "metadata": {},
   "outputs": [
    {
     "name": "stdout",
     "output_type": "stream",
     "text": [
      "20\n"
     ]
    },
    {
     "ename": "TypeError",
     "evalue": "calculate_area() got an unexpected keyword argument 'height'",
     "output_type": "error",
     "traceback": [
      "\u001b[1;31m---------------------------------------------------------------------------\u001b[0m",
      "\u001b[1;31mTypeError\u001b[0m                                 Traceback (most recent call last)",
      "Cell \u001b[1;32mIn[223], line 5\u001b[0m\n\u001b[0;32m      3\u001b[0m \u001b[39mprint\u001b[39m(area)\n\u001b[0;32m      4\u001b[0m \u001b[39m# Keyword argument\u001b[39;00m\n\u001b[1;32m----> 5\u001b[0m area \u001b[39m=\u001b[39m calculate_area(breadth\u001b[39m=\u001b[39;49m\u001b[39m7\u001b[39;49m,height\u001b[39m=\u001b[39;49m\u001b[39m3\u001b[39;49m)\n\u001b[0;32m      6\u001b[0m \u001b[39mprint\u001b[39m(area)\n\u001b[0;32m      7\u001b[0m \u001b[39m# Default argument\u001b[39;00m\n",
      "\u001b[1;31mTypeError\u001b[0m: calculate_area() got an unexpected keyword argument 'height'"
     ]
    }
   ],
   "source": [
    "# Positional argument\n",
    "area = calculate_area(5,4)\n",
    "print(area)\n",
    "# Keyword argument\n",
    "area = calculate_area(breadth=7,height=3)\n",
    "print(area)\n",
    "# Default argument\n",
    "area = calculate_area(5)\n",
    "print(area)\n",
    "\n"
   ]
  },
  {
   "cell_type": "code",
   "execution_count": null,
   "metadata": {},
   "outputs": [],
   "source": [
    "# Passing functions as arguments\n",
    "\n",
    "def shout(text):\n",
    "    return text.upper()\n",
    "def whisper(text):\n",
    "    return text.lower()\n",
    "def modify_text(text,func):\n",
    "    return func(text)\n",
    "\n",
    "yelled_text = modify_text(\"Hello World\",shout)\n",
    "print(yelled_text)\n",
    "\n"
   ]
  }
 ],
 "metadata": {
  "language_info": {
   "name": "python"
  },
  "orig_nbformat": 4
 },
 "nbformat": 4,
 "nbformat_minor": 2
}
