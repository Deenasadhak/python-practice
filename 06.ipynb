{
 "cells": [
  {
   "cell_type": "code",
   "execution_count": 234,
   "metadata": {},
   "outputs": [
    {
     "name": "stdout",
     "output_type": "stream",
     "text": [
      "hello world\n"
     ]
    }
   ],
   "source": [
    "#input and output\n",
    "\n",
    "print(\"hello world\")"
   ]
  },
  {
   "cell_type": "code",
   "execution_count": 235,
   "metadata": {},
   "outputs": [],
   "source": [
    "#Data types\n",
    "\n",
    "int_num = 10\n",
    "float_num =5.23\n",
    "complex_num =2+ 4j\n",
    "string =\"ramu\"\n",
    "boolean = False\n",
    "list_example = [12, 34, 43, 45]\n",
    "tuple_example = (12, 34, 43, 45)\n",
    "dict_exaple = {\"s\":23, \"y\":54, \"c\":45}\n",
    "set_example ={12, 34, 43, 45}"
   ]
  },
  {
   "cell_type": "code",
   "execution_count": 236,
   "metadata": {},
   "outputs": [],
   "source": [
    "#expressions and Operators\n",
    "a = 10\n",
    "b = 5"
   ]
  },
  {
   "cell_type": "code",
   "execution_count": 237,
   "metadata": {},
   "outputs": [
    {
     "name": "stdout",
     "output_type": "stream",
     "text": [
      "15\n",
      "5\n",
      "50\n",
      "2.0\n",
      "2\n",
      "0\n",
      "100000\n"
     ]
    }
   ],
   "source": [
    "# arithmetic operators\n",
    "print(a+b) \n",
    "print(a-b)\n",
    "print(a*b)\n",
    "print(a/b)\n",
    "print(a//b)\n",
    "print(a%b)\n",
    "print(a**b)\n"
   ]
  },
  {
   "cell_type": "code",
   "execution_count": 238,
   "metadata": {},
   "outputs": [
    {
     "name": "stdout",
     "output_type": "stream",
     "text": [
      "False\n",
      "True\n",
      "True\n",
      "False\n",
      "True\n",
      "False\n"
     ]
    }
   ],
   "source": [
    "# comparison operators\n",
    "print(a==b)\n",
    "print(a!=b)\n",
    "print(a>b)\n",
    "print(a<b)\n",
    "print(a>=b)\n",
    "print(a<=b)\n"
   ]
  },
  {
   "cell_type": "code",
   "execution_count": 239,
   "metadata": {},
   "outputs": [
    {
     "name": "stdout",
     "output_type": "stream",
     "text": [
      "True\n",
      "True\n",
      "False\n"
     ]
    }
   ],
   "source": [
    "# logical operators\n",
    "print(a>6 and b<6)\n",
    "print(a>6 or b<3)\n",
    "print(not(a>6 and b<6))\n"
   ]
  },
  {
   "cell_type": "code",
   "execution_count": 240,
   "metadata": {},
   "outputs": [
    {
     "name": "stdout",
     "output_type": "stream",
     "text": [
      "5\n",
      "52.0\n",
      "34\n",
      "['A', 'p', 'p', 'l', 'e']\n",
      "(1, 2, 3, 4, 5)\n",
      "{1, 2, 3, 4, 5}\n"
     ]
    }
   ],
   "source": [
    "\n",
    "# Type Casting\n",
    "int_from_float = int(5.32)\n",
    "float_from_int = float(52)\n",
    "string_from_int = str(34)\n",
    "list_from_string = list(\"Apple\")\n",
    "tuple_from_list = tuple([1,2,3,4,5])\n",
    "set_from_list = set([1,2,3,4,5])\n",
    "\n",
    "\n",
    "print(int_from_float)\n",
    "print(float_from_int)\n",
    "print(string_from_int)\n",
    "print(list_from_string)\n",
    "print(tuple_from_list)\n",
    "print(set_from_list)\n",
    "\n"
   ]
  },
  {
   "cell_type": "code",
   "execution_count": 241,
   "metadata": {},
   "outputs": [
    {
     "name": "stdout",
     "output_type": "stream",
     "text": [
      "5 is lesser than 10\n"
     ]
    }
   ],
   "source": [
    "# Conditional statements\n",
    "a = 5\n",
    "b = 10\n",
    "\n",
    "if a == b:\n",
    "    print(\"The numbers are equal.\")\n",
    "elif a > b:\n",
    "    print(f\"{a} is greater than {b}.\")\n",
    "else:\n",
    "    print(f\"{a} is lesser than {b}\")\n"
   ]
  },
  {
   "cell_type": "code",
   "execution_count": 242,
   "metadata": {},
   "outputs": [
    {
     "name": "stdout",
     "output_type": "stream",
     "text": [
      "Violet\n",
      "Indigo\n",
      "Blue\n",
      "Green\n",
      "Yellow\n",
      "Orange\n",
      "Red\n",
      "Violet\n",
      "Indigo\n",
      "Blue\n",
      "Green\n",
      "Yellow\n",
      "Orange\n",
      "Red\n",
      "0\n",
      "1\n",
      "2\n",
      "3\n",
      "4\n",
      "0\n",
      "1\n",
      "2\n",
      "3\n",
      "4\n",
      "6\n",
      "7\n",
      "8\n",
      "9\n",
      "7\n",
      "2322991520960\n",
      "<class 'list'>\n",
      "0\n",
      "1\n",
      "2\n",
      "3\n",
      "4\n"
     ]
    }
   ],
   "source": [
    "\n",
    "# Looping Statements\n",
    "colour = [\"Violet\",\"Indigo\",\"Blue\",\"Green\",\"Yellow\",\"Orange\",\"Red\"]\n",
    "   \n",
    "    # For loop\n",
    "for i in colour:\n",
    "    print(i)\n",
    "\n",
    "        # While loop\n",
    "n = 0\n",
    "while n < len(colour):\n",
    "    print(colour[n])\n",
    "    n = n+1\n",
    "\n",
    "  \n",
    "# Jumping Statements\n",
    "    # Break statement\n",
    "for i in range(10):\n",
    "    if i==5:\n",
    "        break\n",
    "    print(i)\n",
    "  \n",
    "    # continue statement\n",
    "for i in range(10):\n",
    "    if i==5:\n",
    "        continue\n",
    "    print(i)\n",
    "\n",
    "# Special Functions\n",
    "colour = [\"Violet\",\"Indigo\",\"Blue\",\"Green\",\"Yellow\",\"Orange\",\"Red\"]\n",
    " \n",
    "    # len()\n",
    "print(len(colour))\n",
    "\n",
    "    # id()\n",
    "print(id(colour))\n",
    "\n",
    "    # type()\n",
    "print(type(colour))\n",
    "\n",
    "    # range()\n",
    "for i in range(5):\n",
    "    print(i)\n",
    "\n",
    "# Functions in python\n",
    "\n",
    "def calculate_area(length,breadth=5):\n",
    "    return length * breadth\n",
    "\n"
   ]
  },
  {
   "cell_type": "code",
   "execution_count": 243,
   "metadata": {},
   "outputs": [
    {
     "name": "stdout",
     "output_type": "stream",
     "text": [
      "HELLO WORLD\n"
     ]
    }
   ],
   "source": [
    "# Passing functions as arguments\n",
    "\n",
    "def shout(text):\n",
    "    return text.upper()\n",
    "def whisper(text):\n",
    "    return text.lower()\n",
    "def modify_text(text,func):\n",
    "    return func(text)\n",
    "\n",
    "yelled_text = modify_text(\"Hello World\",shout)\n",
    "print(yelled_text)\n",
    "\n"
   ]
  },
  {
   "cell_type": "code",
   "execution_count": 244,
   "metadata": {},
   "outputs": [
    {
     "name": "stdout",
     "output_type": "stream",
     "text": [
      "9\n",
      " Hello Adwaid\n",
      "['Apple', 'Mango', 'Banana', 'Grapes']\n",
      "[1, 9, 25, 36, 64]\n",
      "[2, 4, 6]\n",
      "24\n",
      "Area of rectangle: 20\n",
      "Area of circle: 153.86\n"
     ]
    }
   ],
   "source": [
    "# Lambda\n",
    "\n",
    "# simple addition\n",
    "add = lambda a,b : a+b\n",
    "result = add(5,4)\n",
    "print(result)\n",
    "\n",
    "# String Formatting\n",
    "greeting = lambda name : f\" Hello {name}\"\n",
    "message = greeting(\"Adwaid\")\n",
    "print(message)\n",
    "\n",
    "# Sorting a list\n",
    "fruits = [\"Apple\",\"Banana\",\"Mango\",\"Grapes\"]\n",
    "sorted_words = sorted(fruits,key = lambda word: len(word))\n",
    "print(sorted_words)\n",
    "\n",
    "# map()\n",
    "numbers = [1,3,5,6,8]\n",
    "squared_numbers = map(lambda x: x**2,numbers)\n",
    "print(list(squared_numbers))\n",
    "\n",
    "# filter()\n",
    "numbers = [1,2,3,4,5,6,7]\n",
    "even_number = filter(lambda x: x%2==0,numbers)\n",
    "print(list(even_number))\n",
    "\n",
    "# reduce()\n",
    "from functools import reduce\n",
    "numbers = [1,2,3,4]\n",
    "product = reduce(lambda x,y: x*y,numbers)\n",
    "print(product)\n",
    "\n",
    "# Area Calculator\n",
    "def calculate_area(shape,dimension):\n",
    "    if shape == \"rectangle\":\n",
    "        if \"length\" in dimension and \"breadth\" in dimension:\n",
    "            length = dimension[\"length\"]\n",
    "            breadth = dimension[\"breadth\"]\n",
    "            area = lambda x,y: x*y\n",
    "            result = area(length,breadth)\n",
    "            return result\n",
    "        \n",
    "    elif shape == \"circle\":\n",
    "        if \"radius\" in dimension:\n",
    "            radius = dimension[\"radius\"]\n",
    "            area = lambda x: 3.14*x*x\n",
    "            result = area(radius)\n",
    "            return result\n",
    "        \n",
    "    else:\n",
    "        print(\"Enter valid shape.\")\n",
    "    \n",
    "area=calculate_area(\"rectangle\",{\"length\":5,\"breadth\":4})\n",
    "print(\"Area of rectangle:\",area)\n",
    "\n",
    "area = calculate_area(\"circle\",{\"radius\":7})\n",
    "print(\"Area of circle:\",area)"
   ]
  }
 ],
 "metadata": {
  "language_info": {
   "name": "python"
  },
  "orig_nbformat": 4
 },
 "nbformat": 4,
 "nbformat_minor": 2
}
