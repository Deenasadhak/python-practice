{
 "cells": [
  {
   "cell_type": "code",
   "execution_count": 16,
   "metadata": {},
   "outputs": [
    {
     "name": "stdout",
     "output_type": "stream",
     "text": [
      "Caught a NameError: name 'undeclared_variable' is not defined\n"
     ]
    }
   ],
   "source": [
    "# NameError\n",
    "try:\n",
    "    print(undeclared_variable)\n",
    "except NameError as ne:\n",
    "    print(f\"Caught a NameError: {ne}\")"
   ]
  },
  {
   "cell_type": "code",
   "execution_count": 17,
   "metadata": {},
   "outputs": [
    {
     "name": "stdout",
     "output_type": "stream",
     "text": [
      "Caught a TypeError: can only concatenate str (not \"int\") to str\n"
     ]
    }
   ],
   "source": [
    "# TypeError\n",
    "try:\n",
    "    result = '2' + 3  # This will raise a TypeError\n",
    "except TypeError as te:\n",
    "    print(f\"Caught a TypeError: {te}\")"
   ]
  },
  {
   "cell_type": "code",
   "execution_count": 18,
   "metadata": {},
   "outputs": [
    {
     "name": "stdout",
     "output_type": "stream",
     "text": [
      "Caught a ValueError: invalid literal for int() with base 10: 'not_a_number'\n"
     ]
    }
   ],
   "source": [
    "# ValueError\n",
    "try:\n",
    "    number = int(\"not_a_number\")  # This will raise a ValueError\n",
    "except ValueError as ve:\n",
    "    print(f\"Caught a ValueError: {ve}\")"
   ]
  },
  {
   "cell_type": "code",
   "execution_count": 19,
   "metadata": {},
   "outputs": [
    {
     "name": "stdout",
     "output_type": "stream",
     "text": [
      "Caught a ZeroDivisionError: division by zero\n"
     ]
    }
   ],
   "source": [
    "# ZeroDivisionError\n",
    "try:\n",
    "    result = 10 / 0  # This will raise a ZeroDivisionError\n",
    "except ZeroDivisionError as zde:\n",
    "    print(f\"Caught a ZeroDivisionError: {zde}\")"
   ]
  },
  {
   "cell_type": "code",
   "execution_count": 20,
   "metadata": {},
   "outputs": [
    {
     "name": "stdout",
     "output_type": "stream",
     "text": [
      "Caught a KeyError: 'b'\n"
     ]
    }
   ],
   "source": [
    "# KeyError\n",
    "try:\n",
    "    my_dict = {'a': 1}\n",
    "    print(my_dict['b'])  # This will raise a KeyError\n",
    "except KeyError as ke:\n",
    "    print(f\"Caught a KeyError: {ke}\")"
   ]
  },
  {
   "cell_type": "code",
   "execution_count": 21,
   "metadata": {},
   "outputs": [
    {
     "name": "stdout",
     "output_type": "stream",
     "text": [
      "Caught an IndexError: list index out of range\n"
     ]
    }
   ],
   "source": [
    "# IndexError\n",
    "try:\n",
    "    my_list = [1, 2, 3]\n",
    "    print(my_list[5])  # This will raise an IndexError\n",
    "except IndexError as ie:\n",
    "    print(f\"Caught an IndexError: {ie}\")"
   ]
  }
 ],
 "metadata": {
  "kernelspec": {
   "display_name": "Python 3",
   "language": "python",
   "name": "python3"
  },
  "language_info": {
   "codemirror_mode": {
    "name": "ipython",
    "version": 3
   },
   "file_extension": ".py",
   "mimetype": "text/x-python",
   "name": "python",
   "nbconvert_exporter": "python",
   "pygments_lexer": "ipython3",
   "version": "3.11.9"
  },
  "orig_nbformat": 4
 },
 "nbformat": 4,
 "nbformat_minor": 2
}
